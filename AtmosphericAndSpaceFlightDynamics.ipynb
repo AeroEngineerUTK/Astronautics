{
  "nbformat": 4,
  "nbformat_minor": 0,
  "metadata": {
    "colab": {
      "provenance": [],
      "authorship_tag": "ABX9TyNNONtBck2vQWJuSX+G8czY",
      "include_colab_link": true
    },
    "kernelspec": {
      "name": "python3",
      "display_name": "Python 3"
    },
    "language_info": {
      "name": "python"
    }
  },
  "cells": [
    {
      "cell_type": "markdown",
      "metadata": {
        "id": "view-in-github",
        "colab_type": "text"
      },
      "source": [
        "<a href=\"https://colab.research.google.com/github/AeroEngineerUTK/Astronautics-SpaceFlight_Mikhail-LaMay/blob/main/AtmosphericAndSpaceFlightDynamics.ipynb\" target=\"_parent\"><img src=\"https://colab.research.google.com/assets/colab-badge.svg\" alt=\"Open In Colab\"/></a>"
      ]
    },
    {
      "cell_type": "markdown",
      "metadata": {
        "id": "Fo1dITeW4RlD"
      },
      "source": [
        "## Subject: Atmospheric & SpaceFlight Dynamics"
      ]
    },
    {
      "cell_type": "code",
      "metadata": {
        "id": "gsWjlLsv4F59"
      },
      "source": [
        "# ---- Example 2.1 ---- #\n",
        "# - Let us find scalar and vector products of A_mag = -2i + 5j - k and\n",
        "#     B_mag = i + 3k.\n",
        "\n",
        "def Example_2_1():\n",
        "\n",
        "# Variables [Vectors]\n",
        "    A = [-2,5,-1] # Vector A\n",
        "    B = [1,0,3] # Vector B\n",
        "\n",
        "# Dot Product (s = dot(A,B))\n",
        "    s = A[0]*B[0] + A[1]*B[1] + A[2]*B[2]\n",
        "\n",
        "# Cross Product (C = cross(A,B))\n",
        "    Ci = A[1]*B[2] - A[2]*B[1]\n",
        "    Cj = A[2]*B[0] - A[0]*B[2]\n",
        "    Ck = A[0]*B[1] - A[1]*B[0]\n",
        "    C = [Ci,Cj,Ck]\n",
        "\n",
        "# Cross Product (D=cross(B,A))\n",
        "    Di = B[1]*A[2] - B[2]*A[1]\n",
        "    Dj = B[2]*A[0] - B[0]*A[2]\n",
        "    Dk = B[0]*A[1] - B[1]*A[0]\n",
        "    D = [Di,Dj,Dk]\n",
        "\n",
        "# Triple Cross Product (E = cross(A,cross(A,B)) = cross(A,C))\n",
        "    Ei = A[1]*C[2] - A[2]*C[1]\n",
        "    Ej = A[2]*C[0] - A[0]*C[2]\n",
        "    Ek = A[0]*C[1] - A[1]*C[0]\n",
        "    E = [Ei,Ej,Ek]\n",
        "\n",
        "# Print Results\n",
        "    # print(s,'\\n',C,'\\n',D,'\\n',E)\n",
        "\n",
        "def main():\n",
        "    Example_2_1()\n",
        "\n",
        "if __name__ == '__main__':\n",
        "    main()"
      ],
      "execution_count": null,
      "outputs": []
    },
    {
      "cell_type": "code",
      "metadata": {
        "colab": {
          "base_uri": "https://localhost:8080/"
        },
        "id": "5zag5qHc4p35",
        "outputId": "1277d821-1d4f-44c6-98d7-7a6aceb81d67"
      },
      "source": [
        "# ---- Example 2.2 ---- #\n",
        "# - Find the rotation matrix that produces the right-hand coordinate frame\n",
        "#   i',j',k' given by i' = 0.1i + 0.2j + (sqrt(1 - 0.01 - 0.04))k, and\n",
        "#   j'= -0.1i - 0.9726095077j + (sqrt(1 - 0.01 - 0.9726095077^2))k\n",
        "\n",
        "# Libraries Required:\n",
        "import numpy as np\n",
        "\n",
        "def Example_2_2():\n",
        "\n",
        "# Variables: [Vectors]\n",
        "  iprime = [0.1,0.2,np.sqrt(1 - 0.01 - 0.04)]\n",
        "  jprime = [-0.1,-0.9726095077,np.sqrt(1 - 0.01 - 0.9726095077**2)]\n",
        "  # print(iprime,'\\n',jprime,'\\n')\n",
        "\n",
        "# Take Dot Product: [dot(iprime,jprime)]\n",
        "  dot_iprime_jprime = np.dot(iprime,jprime)\n",
        "  # print(dot_iprime_jprime,'\\n')\n",
        "\n",
        "# Take Cross Product: [cross(iprime,jprime)] [k' = i',j']\n",
        "  kprime = np.cross(iprime,jprime)\n",
        "  # print(kprime)\n",
        "\n",
        "# Define New Variables:\n",
        "  i = np.array([[1],[0],[0]])\n",
        "  j = np.array([[0],[1],[0]])\n",
        "  k = np.array([[0],[0],[1]])\n",
        "  # print(i,'\\n',j,'\\n',k,'\\n')\n",
        "\n",
        "# Create The Direction Cosine Matrix, Or The Rotation Matrix\n",
        "  C = np.array([\n",
        "                [np.dot(iprime,i),np.dot(jprime,i),np.dot(kprime,i)],\n",
        "                [np.dot(iprime,j),np.dot(jprime,j),np.dot(kprime,j)],\n",
        "                [np.dot(iprime,k),np.dot(jprime,k),np.dot(kprime,k)]\n",
        "                ])\n",
        "\n",
        "  C_trans = C.T # Transpose Rotation Matrix\n",
        "  print(C_trans)\n",
        "\n",
        "# Take Determinant: [The Rotation Matrix]\n",
        "  # det = np.linalg.det(C)\n",
        "  # print(int(det))\n",
        "\n",
        "def main():\n",
        "    Example_2_2()\n",
        "\n",
        "if __name__ == '__main__':\n",
        "    main()"
      ],
      "execution_count": null,
      "outputs": [
        {
          "output_type": "stream",
          "name": "stdout",
          "text": [
            "[[[ 0.1         0.2         0.97467943]\n",
            "  [-0.1        -0.97260951  0.20983504]\n",
            "  [ 0.98994949 -0.11845145 -0.07726095]]]\n"
          ]
        }
      ]
    }
  ]
}